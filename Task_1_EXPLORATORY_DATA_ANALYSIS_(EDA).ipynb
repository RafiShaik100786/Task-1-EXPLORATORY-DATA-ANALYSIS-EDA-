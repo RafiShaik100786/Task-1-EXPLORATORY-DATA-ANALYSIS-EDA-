{
  "nbformat": 4,
  "nbformat_minor": 0,
  "metadata": {
    "colab": {
      "private_outputs": true,
      "provenance": []
    },
    "kernelspec": {
      "name": "python3",
      "display_name": "Python 3"
    },
    "language_info": {
      "name": "python"
    }
  },
  "cells": [
    {
      "cell_type": "markdown",
      "source": [
        "# **VilearnX Advanced Technologies**"
      ],
      "metadata": {
        "id": "I-BpkB7e0b5b"
      }
    },
    {
      "cell_type": "markdown",
      "source": [
        "## **Task-1: EXPLORATORY DATA ANALYSIS (EDA)**"
      ],
      "metadata": {
        "id": "VpdzJLzk0syx"
      }
    },
    {
      "cell_type": "markdown",
      "source": [
        "## Author: Shaik Rafi\n",
        "\n",
        "## Batch: july\n",
        "\n",
        "## Domain: Data Analytics"
      ],
      "metadata": {
        "id": "dozvHyLw0GGj"
      }
    },
    {
      "cell_type": "code",
      "source": [
        "# import data\n",
        "from google.colab import files\n",
        "uploaded = files.upload()"
      ],
      "metadata": {
        "id": "kJ7Oz1OZukt8"
      },
      "execution_count": null,
      "outputs": []
    },
    {
      "cell_type": "code",
      "source": [
        "# import libriries\n",
        "import pandas as pd\n",
        "import io\n",
        "import numpy as np\n",
        "import matplotlib.pyplot as plt\n"
      ],
      "metadata": {
        "id": "zGGzjcVBvKTA"
      },
      "execution_count": null,
      "outputs": []
    },
    {
      "cell_type": "code",
      "source": [
        "data = pd.read_csv(io.BytesIO(uploaded['test.csv']))\n",
        "data"
      ],
      "metadata": {
        "id": "xxe3LqvAvLw_"
      },
      "execution_count": null,
      "outputs": []
    },
    {
      "cell_type": "code",
      "source": [
        "# identify null values\n",
        "data.isnull().sum()\n"
      ],
      "metadata": {
        "id": "TgGiNse4vRRs"
      },
      "execution_count": null,
      "outputs": []
    },
    {
      "cell_type": "code",
      "source": [
        "# deal with null values\n",
        "data['Age'].fillna(data['Age'].median(), inplace=True)\n",
        "data.dropna(subset=['Fare'], inplace=True)\n",
        "data.drop(columns=['Cabin'], inplace=True)\n",
        "data.isnull().sum()"
      ],
      "metadata": {
        "id": "xTS4_AUJvVCR"
      },
      "execution_count": null,
      "outputs": []
    },
    {
      "cell_type": "code",
      "source": [
        "# identify outilers by uding boxplot\n",
        "data['PassengerId'].value_counts().plot(kind='box')\n",
        "plt.show()\n",
        "data['Pclass'].value_counts().plot(kind='box')\n",
        "plt.show()\n",
        "data['Sex'].value_counts().plot(kind='box')\n",
        "plt.show()\n",
        "data['Age'].value_counts().plot(kind='box')\n",
        "plt.show()\n",
        "data['Name'].value_counts().plot(kind='box')\n",
        "plt.show()\n",
        "data['SibSp'].value_counts().plot(kind='box')\n",
        "plt.show()\n",
        "data['Parch'].value_counts().plot(kind='box')\n",
        "plt.show()\n",
        "data['Ticket'].value_counts().plot(kind='box')\n",
        "plt.show()\n",
        "data['Fare'].value_counts().plot(kind='box')\n",
        "plt.show()\n",
        "data['Embarked'].value_counts().plot(kind='box')\n",
        "plt.show()"
      ],
      "metadata": {
        "id": "6akM_mA9vY8c"
      },
      "execution_count": null,
      "outputs": []
    },
    {
      "cell_type": "code",
      "source": [
        "# removing outilers using IQR method\n",
        "Q1 = data['Fare'].quantile(0.25)\n",
        "Q3 = data['Fare'].quantile(0.75)\n",
        "IQR = Q3-Q1\n",
        "lower_bound =Q1-1.5*IQR\n",
        "upper_bound =Q3+1.5*IQR\n",
        "data[(data['Fare'] >= lower_bound) & (data['Fare'] <= upper_bound)]"
      ],
      "metadata": {
        "id": "h6ZMqmUrxc9b"
      },
      "execution_count": null,
      "outputs": []
    },
    {
      "cell_type": "markdown",
      "source": [
        "# **Train Table**"
      ],
      "metadata": {
        "id": "Jd_aZkdi7Wvk"
      }
    },
    {
      "cell_type": "code",
      "source": [
        "from google.colab import files\n",
        "uploaded = files.upload()\n"
      ],
      "metadata": {
        "id": "9Q-kd2LaxkIf"
      },
      "execution_count": null,
      "outputs": []
    },
    {
      "cell_type": "code",
      "source": [
        "data1 = pd.read_csv(io.BytesIO(uploaded['train.csv']))\n",
        "data1"
      ],
      "metadata": {
        "id": "IznsUoavxq_a"
      },
      "execution_count": null,
      "outputs": []
    },
    {
      "cell_type": "code",
      "source": [
        "# identify null vales\n",
        "data1.isnull().sum()\n",
        "\n"
      ],
      "metadata": {
        "id": "-R480QbQxua-"
      },
      "execution_count": null,
      "outputs": []
    },
    {
      "cell_type": "code",
      "source": [
        "# dealing with null vales\n",
        "data1['Id'].fillna(data1['Id'].median(), inplace=True)\n",
        "data1.dropna(subset=['SaleType'], inplace=True)\n",
        "data1.drop(columns=['SaleCondition'], inplace=True)\n",
        "data1.isnull().sum()\n"
      ],
      "metadata": {
        "id": "72htcgxEH6AY"
      },
      "execution_count": null,
      "outputs": []
    },
    {
      "cell_type": "code",
      "source": [
        "# identify outilers by uding boxplot\n",
        "data1['Id'].value_counts().plot(kind='box')\n",
        "plt.show()\n",
        "data1['MSSubClass'].value_counts().plot(kind='box')\n",
        "plt.show()\n",
        "data1['MSZoning'].value_counts().plot(kind='box')\n",
        "plt.show()\n",
        "data1['LotFrontage'].value_counts().plot(kind='box')\n",
        "plt.show()\n",
        "data1['LotArea'].value_counts().plot(kind='box')\n",
        "plt.show()\n",
        "data1['MiscVal'].value_counts().plot(kind='box')\n",
        "plt.show()\n",
        "data1['MoSold'].value_counts().plot(kind='box')\n",
        "plt.show()\n",
        "data1['YrSold'].value_counts().plot(kind='box')\n",
        "plt.show()\n",
        "data1['SaleType'].value_counts().plot(kind='box')\n",
        "plt.show()\n",
        "data1['SalePrice'].value_counts().plot(kind='box')\n",
        "plt.show()\n"
      ],
      "metadata": {
        "id": "6LOSPcE02V7F"
      },
      "execution_count": null,
      "outputs": []
    },
    {
      "cell_type": "code",
      "source": [
        "# removing outilers using IQR method\n",
        "Q11 = data1['LotFrontage'].quantile(0.25)\n",
        "Q31 = data1['LotFrontage'].quantile(0.75)\n",
        "IQR1 = Q31-Q11\n",
        "lower_bound1 =Q11-1.5*IQR1\n",
        "upper_bound1 =Q31+1.5*IQR1\n",
        "data1[(data1['LotFrontage'] >= lower_bound1) & (data1['LotFrontage'] <= upper_bound1)]"
      ],
      "metadata": {
        "id": "9WqFRxyC3z-z"
      },
      "execution_count": null,
      "outputs": []
    },
    {
      "cell_type": "markdown",
      "source": [
        "# **Task 1 is completed**"
      ],
      "metadata": {
        "id": "8yWMeklf6thR"
      }
    }
  ]
}